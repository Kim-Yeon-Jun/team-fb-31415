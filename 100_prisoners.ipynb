{
 "cells": [
  {
   "cell_type": "code",
   "execution_count": 1,
   "metadata": {},
   "outputs": [],
   "source": [
    "import random"
   ]
  },
  {
   "cell_type": "code",
   "execution_count": 2,
   "metadata": {},
   "outputs": [],
   "source": [
    "\n",
    "\n",
    "def play_random(n):\n",
    "    # using 0-99 instead of ranges 1-100\n",
    "    pardoned = 0\n",
    "    in_drawer = list(range(100))\n",
    "    sampler = list(range(100))\n",
    "    for _round in range(n):\n",
    "        random.shuffle(in_drawer)\n",
    "        found = False\n",
    "        for prisoner in range(100):\n",
    "            found = False\n",
    "            for reveal in random.sample(sampler, 50):\n",
    "                card = in_drawer[reveal]\n",
    "                if card == prisoner:\n",
    "                    found = True\n",
    "                    break\n",
    "            if not found:\n",
    "                break\n",
    "        if found:\n",
    "            pardoned += 1\n",
    "    return pardoned / n * 100   # %\n",
    "\n",
    "\n"
   ]
  },
  {
   "cell_type": "code",
   "execution_count": 3,
   "metadata": {},
   "outputs": [],
   "source": [
    "\n",
    "def play_optimal(n):\n",
    "    # using 0-99 instead of ranges 1-100\n",
    "    pardoned = 0\n",
    "    in_drawer = list(range(100))\n",
    "    for _round in range(n):\n",
    "        random.shuffle(in_drawer)\n",
    "        for prisoner in range(100):\n",
    "            reveal = prisoner\n",
    "            found = False\n",
    "            for go in range(50):\n",
    "                card = in_drawer[reveal]\n",
    "                if card == prisoner:\n",
    "                    found = True\n",
    "                    break\n",
    "                reveal = card\n",
    "            if not found:\n",
    "                break\n",
    "        if found:\n",
    "            pardoned += 1\n",
    "    return pardoned / n * 100   # %\n"
   ]
  },
  {
   "cell_type": "code",
   "execution_count": null,
   "metadata": {},
   "outputs": [
    {
     "name": "stdout",
     "output_type": "stream",
     "text": [
      " Simulation count: 100000\n"
     ]
    }
   ],
   "source": [
    "if __name__ == '__main__':\n",
    "    n = 100_000\n",
    "    print(\" Simulation count:\", n)\n",
    "    print(f\" Random play wins: {play_random(n):4.1f}% of simulations\")\n",
    "    print(f\"Optimal play wins: {play_optimal(n):4.1f}% of simulations\")"
   ]
  },
  {
   "cell_type": "code",
   "execution_count": null,
   "metadata": {},
   "outputs": [],
   "source": []
  }
 ],
 "metadata": {
  "kernelspec": {
   "display_name": "py3_11_9",
   "language": "python",
   "name": "python3"
  },
  "language_info": {
   "codemirror_mode": {
    "name": "ipython",
    "version": 3
   },
   "file_extension": ".py",
   "mimetype": "text/x-python",
   "name": "python",
   "nbconvert_exporter": "python",
   "pygments_lexer": "ipython3",
   "version": "3.11.9"
  }
 },
 "nbformat": 4,
 "nbformat_minor": 2
}
